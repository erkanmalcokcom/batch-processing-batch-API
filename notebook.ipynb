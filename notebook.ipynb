{
 "cells": [
  {
   "cell_type": "markdown",
   "metadata": {},
   "source": [
    "We will start with an example to categorize movies using gpt-3.5-turbo, and then cover how we can use the vision capabilities of gpt-4-turbo to caption images."
   ]
  },
  {
   "cell_type": "code",
   "execution_count": 3,
   "metadata": {},
   "outputs": [],
   "source": [
    "import json\n",
    "from openai import OpenAI\n",
    "import pandas as pd\n",
    "# from IPython.display import Image, display"
   ]
  },
  {
   "cell_type": "code",
   "execution_count": 5,
   "metadata": {},
   "outputs": [],
   "source": [
    "client = OpenAI()"
   ]
  },
  {
   "cell_type": "code",
   "execution_count": 9,
   "metadata": {},
   "outputs": [
    {
     "name": "stdout",
     "output_type": "stream",
     "text": [
      "In the realm of code, a dance unseen,\n",
      "Recursion whispers like a dream. \n",
      "\n",
      "A function calls itself, lost in time,\n",
      "A loop within, a mountain to climb. \n",
      "\n",
      "With each step taken, old paths rewind,\n",
      "Infinite patterns within the mind.\n"
     ]
    }
   ],
   "source": [
    "# Checking the connection to the API\n",
    "\n",
    "completion = client.chat.completions.create(\n",
    "  model=\"gpt-3.5-turbo\",\n",
    "  messages=[\n",
    "    {\"role\": \"system\", \"content\": \"You are a poetic data scientist, skilled in explaining complex programming concepts with Pythonic flair.\"},\n",
    "    {\"role\": \"user\", \"content\": \"Compose a poem only two paragraphs that explains the concept of recursion in programming. Keep it simple and elegant.\"}\n",
    "  ]\n",
    ")\n",
    "\n",
    "print(completion.choices[0].message.content)"
   ]
  },
  {
   "cell_type": "markdown",
   "metadata": {},
   "source": [
    "Very nice to see the new models from CreativeOpenAI, and I hope you enjoy the examples!"
   ]
  },
  {
   "cell_type": "code",
   "execution_count": 10,
   "metadata": {},
   "outputs": [],
   "source": [
    "dataset_path = \"data/imdb_top_1000.csv\"\n",
    "data = pd.read_csv(dataset_path)"
   ]
  },
  {
   "cell_type": "code",
   "execution_count": 11,
   "metadata": {},
   "outputs": [
    {
     "data": {
      "text/html": [
       "<div>\n",
       "<style scoped>\n",
       "    .dataframe tbody tr th:only-of-type {\n",
       "        vertical-align: middle;\n",
       "    }\n",
       "\n",
       "    .dataframe tbody tr th {\n",
       "        vertical-align: top;\n",
       "    }\n",
       "\n",
       "    .dataframe thead th {\n",
       "        text-align: right;\n",
       "    }\n",
       "</style>\n",
       "<table border=\"1\" class=\"dataframe\">\n",
       "  <thead>\n",
       "    <tr style=\"text-align: right;\">\n",
       "      <th></th>\n",
       "      <th>Poster_Link</th>\n",
       "      <th>Series_Title</th>\n",
       "      <th>Released_Year</th>\n",
       "      <th>Certificate</th>\n",
       "      <th>Runtime</th>\n",
       "      <th>Genre</th>\n",
       "      <th>IMDB_Rating</th>\n",
       "      <th>Overview</th>\n",
       "      <th>Meta_score</th>\n",
       "      <th>Director</th>\n",
       "      <th>Star1</th>\n",
       "      <th>Star2</th>\n",
       "      <th>Star3</th>\n",
       "      <th>Star4</th>\n",
       "      <th>No_of_Votes</th>\n",
       "      <th>Gross</th>\n",
       "    </tr>\n",
       "  </thead>\n",
       "  <tbody>\n",
       "    <tr>\n",
       "      <th>0</th>\n",
       "      <td>https://m.media-amazon.com/images/M/MV5BMDFkYT...</td>\n",
       "      <td>The Shawshank Redemption</td>\n",
       "      <td>1994</td>\n",
       "      <td>A</td>\n",
       "      <td>142 min</td>\n",
       "      <td>Drama</td>\n",
       "      <td>9.3</td>\n",
       "      <td>Two imprisoned men bond over a number of years...</td>\n",
       "      <td>80.0</td>\n",
       "      <td>Frank Darabont</td>\n",
       "      <td>Tim Robbins</td>\n",
       "      <td>Morgan Freeman</td>\n",
       "      <td>Bob Gunton</td>\n",
       "      <td>William Sadler</td>\n",
       "      <td>2343110</td>\n",
       "      <td>28,341,469</td>\n",
       "    </tr>\n",
       "    <tr>\n",
       "      <th>1</th>\n",
       "      <td>https://m.media-amazon.com/images/M/MV5BM2MyNj...</td>\n",
       "      <td>The Godfather</td>\n",
       "      <td>1972</td>\n",
       "      <td>A</td>\n",
       "      <td>175 min</td>\n",
       "      <td>Crime, Drama</td>\n",
       "      <td>9.2</td>\n",
       "      <td>An organized crime dynasty's aging patriarch t...</td>\n",
       "      <td>100.0</td>\n",
       "      <td>Francis Ford Coppola</td>\n",
       "      <td>Marlon Brando</td>\n",
       "      <td>Al Pacino</td>\n",
       "      <td>James Caan</td>\n",
       "      <td>Diane Keaton</td>\n",
       "      <td>1620367</td>\n",
       "      <td>134,966,411</td>\n",
       "    </tr>\n",
       "    <tr>\n",
       "      <th>2</th>\n",
       "      <td>https://m.media-amazon.com/images/M/MV5BMTMxNT...</td>\n",
       "      <td>The Dark Knight</td>\n",
       "      <td>2008</td>\n",
       "      <td>UA</td>\n",
       "      <td>152 min</td>\n",
       "      <td>Action, Crime, Drama</td>\n",
       "      <td>9.0</td>\n",
       "      <td>When the menace known as the Joker wreaks havo...</td>\n",
       "      <td>84.0</td>\n",
       "      <td>Christopher Nolan</td>\n",
       "      <td>Christian Bale</td>\n",
       "      <td>Heath Ledger</td>\n",
       "      <td>Aaron Eckhart</td>\n",
       "      <td>Michael Caine</td>\n",
       "      <td>2303232</td>\n",
       "      <td>534,858,444</td>\n",
       "    </tr>\n",
       "    <tr>\n",
       "      <th>3</th>\n",
       "      <td>https://m.media-amazon.com/images/M/MV5BMWMwMG...</td>\n",
       "      <td>The Godfather: Part II</td>\n",
       "      <td>1974</td>\n",
       "      <td>A</td>\n",
       "      <td>202 min</td>\n",
       "      <td>Crime, Drama</td>\n",
       "      <td>9.0</td>\n",
       "      <td>The early life and career of Vito Corleone in ...</td>\n",
       "      <td>90.0</td>\n",
       "      <td>Francis Ford Coppola</td>\n",
       "      <td>Al Pacino</td>\n",
       "      <td>Robert De Niro</td>\n",
       "      <td>Robert Duvall</td>\n",
       "      <td>Diane Keaton</td>\n",
       "      <td>1129952</td>\n",
       "      <td>57,300,000</td>\n",
       "    </tr>\n",
       "    <tr>\n",
       "      <th>4</th>\n",
       "      <td>https://m.media-amazon.com/images/M/MV5BMWU4N2...</td>\n",
       "      <td>12 Angry Men</td>\n",
       "      <td>1957</td>\n",
       "      <td>U</td>\n",
       "      <td>96 min</td>\n",
       "      <td>Crime, Drama</td>\n",
       "      <td>9.0</td>\n",
       "      <td>A jury holdout attempts to prevent a miscarria...</td>\n",
       "      <td>96.0</td>\n",
       "      <td>Sidney Lumet</td>\n",
       "      <td>Henry Fonda</td>\n",
       "      <td>Lee J. Cobb</td>\n",
       "      <td>Martin Balsam</td>\n",
       "      <td>John Fiedler</td>\n",
       "      <td>689845</td>\n",
       "      <td>4,360,000</td>\n",
       "    </tr>\n",
       "  </tbody>\n",
       "</table>\n",
       "</div>"
      ],
      "text/plain": [
       "                                         Poster_Link  \\\n",
       "0  https://m.media-amazon.com/images/M/MV5BMDFkYT...   \n",
       "1  https://m.media-amazon.com/images/M/MV5BM2MyNj...   \n",
       "2  https://m.media-amazon.com/images/M/MV5BMTMxNT...   \n",
       "3  https://m.media-amazon.com/images/M/MV5BMWMwMG...   \n",
       "4  https://m.media-amazon.com/images/M/MV5BMWU4N2...   \n",
       "\n",
       "               Series_Title Released_Year Certificate  Runtime  \\\n",
       "0  The Shawshank Redemption          1994           A  142 min   \n",
       "1             The Godfather          1972           A  175 min   \n",
       "2           The Dark Knight          2008          UA  152 min   \n",
       "3    The Godfather: Part II          1974           A  202 min   \n",
       "4              12 Angry Men          1957           U   96 min   \n",
       "\n",
       "                  Genre  IMDB_Rating  \\\n",
       "0                 Drama          9.3   \n",
       "1          Crime, Drama          9.2   \n",
       "2  Action, Crime, Drama          9.0   \n",
       "3          Crime, Drama          9.0   \n",
       "4          Crime, Drama          9.0   \n",
       "\n",
       "                                            Overview  Meta_score  \\\n",
       "0  Two imprisoned men bond over a number of years...        80.0   \n",
       "1  An organized crime dynasty's aging patriarch t...       100.0   \n",
       "2  When the menace known as the Joker wreaks havo...        84.0   \n",
       "3  The early life and career of Vito Corleone in ...        90.0   \n",
       "4  A jury holdout attempts to prevent a miscarria...        96.0   \n",
       "\n",
       "               Director           Star1           Star2          Star3  \\\n",
       "0        Frank Darabont     Tim Robbins  Morgan Freeman     Bob Gunton   \n",
       "1  Francis Ford Coppola   Marlon Brando       Al Pacino     James Caan   \n",
       "2     Christopher Nolan  Christian Bale    Heath Ledger  Aaron Eckhart   \n",
       "3  Francis Ford Coppola       Al Pacino  Robert De Niro  Robert Duvall   \n",
       "4          Sidney Lumet     Henry Fonda     Lee J. Cobb  Martin Balsam   \n",
       "\n",
       "            Star4  No_of_Votes        Gross  \n",
       "0  William Sadler      2343110   28,341,469  \n",
       "1    Diane Keaton      1620367  134,966,411  \n",
       "2   Michael Caine      2303232  534,858,444  \n",
       "3    Diane Keaton      1129952   57,300,000  \n",
       "4    John Fiedler       689845    4,360,000  "
      ]
     },
     "execution_count": 11,
     "metadata": {},
     "output_type": "execute_result"
    }
   ],
   "source": [
    "data.head()"
   ]
  },
  {
   "cell_type": "code",
   "execution_count": 12,
   "metadata": {},
   "outputs": [],
   "source": [
    "categorize_system_prompt = '''\n",
    "Your goal is to extract movie categories from movie descriptions, as well as a 1-sentence summary for these movies.\n",
    "You will be provided with a movie description, and you will output a json object containing the following information:\n",
    "\n",
    "{\n",
    "    categories: string[] // Array of categories based on the movie description,\n",
    "    summary: string // 1-sentence summary of the movie based on the movie description\n",
    "}\n",
    "\n",
    "Categories refer to the genre or type of the movie, like \"action\", \"romance\", \"comedy\", etc. Keep category names simple and use only lower case letters.\n",
    "Movies can have several categories, but try to keep it under 3-4. Only mention the categories that are the most obvious based on the description.\n",
    "'''\n",
    "\n",
    "def get_categories(description):\n",
    "    response = client.chat.completions.create(\n",
    "    model=\"gpt-3.5-turbo\",\n",
    "    temperature=0.1,\n",
    "    # This is to enable JSON mode, making sure responses are valid json objects\n",
    "    response_format={ \n",
    "        \"type\": \"json_object\"\n",
    "    },\n",
    "    messages=[\n",
    "        {\n",
    "            \"role\": \"system\",\n",
    "            \"content\": categorize_system_prompt\n",
    "        },\n",
    "        {\n",
    "            \"role\": \"user\",\n",
    "            \"content\": description\n",
    "        }\n",
    "    ],\n",
    "    )\n",
    "\n",
    "    return response.choices[0].message.content"
   ]
  },
  {
   "cell_type": "code",
   "execution_count": 21,
   "metadata": {},
   "outputs": [
    {
     "name": "stdout",
     "output_type": "stream",
     "text": [
      "TITLE: The Shawshank Redemption\n",
      "OVERVIEW: Two imprisoned men bond over a number of years, finding solace and eventual redemption through acts of common decency.\n",
      "\n",
      "RESULT: {\n",
      "    \"categories\": [\"drama\"],\n",
      "    \"summary\": \"Two imprisoned men bond over the years and find redemption through acts of common decency.\"\n",
      "}\n",
      "\n",
      "\n",
      "----------------------------\n",
      "\n",
      "\n",
      "TITLE: The Godfather\n",
      "OVERVIEW: An organized crime dynasty's aging patriarch transfers control of his clandestine empire to his reluctant son.\n",
      "\n",
      "RESULT: {\n",
      "    \"categories\": [\"crime\", \"drama\"],\n",
      "    \"summary\": \"A crime drama about an aging patriarch passing on his empire to his son.\"\n",
      "}\n",
      "\n",
      "\n",
      "----------------------------\n",
      "\n",
      "\n",
      "TITLE: The Dark Knight\n",
      "OVERVIEW: When the menace known as the Joker wreaks havoc and chaos on the people of Gotham, Batman must accept one of the greatest psychological and physical tests of his ability to fight injustice.\n",
      "\n",
      "RESULT: {\n",
      "    \"categories\": [\"action\", \"crime\", \"drama\"],\n",
      "    \"summary\": \"A dark and thrilling action-packed movie where Batman faces his ultimate challenge in stopping the Joker's chaos in Gotham.\"\n",
      "}\n",
      "\n",
      "\n",
      "----------------------------\n",
      "\n",
      "\n"
     ]
    }
   ],
   "source": [
    "for _, row in data[:3].iterrows():\n",
    "    description = row['Overview']\n",
    "    title = row['Series_Title']\n",
    "    result = get_categories(description)\n",
    "    print(f\"TITLE: {title}\\nOVERVIEW: {description}\\n\\nRESULT: {result}\")\n",
    "    print(\"\\n\\n----------------------------\\n\\n\")"
   ]
  },
  {
   "cell_type": "code",
   "execution_count": 47,
   "metadata": {},
   "outputs": [],
   "source": [
    "# Creating an array of json tasks\n",
    "\n",
    "tasks = []\n",
    "\n",
    "for index, row in data.iterrows():\n",
    "    \n",
    "    description = row['Overview']\n",
    "    \n",
    "    task = {\n",
    "        \"custom_id\": f\"task-{index}\",\n",
    "        \"method\": \"POST\",\n",
    "        \"url\": \"/v1/chat/completions\",\n",
    "        \"body\": {\n",
    "            # This is what you would have in your Chat Completions API call\n",
    "            \"model\": \"gpt-3.5-turbo\",\n",
    "            \"temperature\": 0.1,\n",
    "            \"response_format\": { \n",
    "                \"type\": \"json_object\"\n",
    "            },\n",
    "            \"messages\": [\n",
    "                {\n",
    "                    \"role\": \"system\",\n",
    "                    \"content\": categorize_system_prompt\n",
    "                },\n",
    "                {\n",
    "                    \"role\": \"user\",\n",
    "                    \"content\": description\n",
    "                }\n",
    "            ],\n",
    "        }\n",
    "    }\n",
    "    \n",
    "    tasks.append(task)"
   ]
  },
  {
   "cell_type": "code",
   "execution_count": 48,
   "metadata": {},
   "outputs": [],
   "source": [
    "# Creating the file\n",
    "\n",
    "file_name = \"data/batch_tasks_movies.jsonl\"\n",
    "\n",
    "with open(file_name, 'w') as file:\n",
    "    for obj in tasks:\n",
    "        file.write(json.dumps(obj) + '\\n')"
   ]
  },
  {
   "cell_type": "code",
   "execution_count": 50,
   "metadata": {},
   "outputs": [
    {
     "data": {
      "text/plain": [
       "FileObject(id='file-nlrXrFuvqDZ0ejzSdo1igj3y', bytes=1127310, created_at=1714826492, filename='batch_tasks_movies.jsonl', object='file', purpose='batch', status='processed', status_details=None)"
      ]
     },
     "execution_count": 50,
     "metadata": {},
     "output_type": "execute_result"
    }
   ],
   "source": [
    "batch_file = client.files.create(\n",
    "  file=open(file_name, \"rb\"),\n",
    "  purpose=\"batch\"\n",
    ")\n",
    "\n",
    "batch_file"
   ]
  },
  {
   "cell_type": "code",
   "execution_count": 51,
   "metadata": {},
   "outputs": [],
   "source": [
    "batch_job = client.batches.create(\n",
    "  input_file_id=batch_file.id,\n",
    "  endpoint=\"/v1/chat/completions\",\n",
    "  completion_window=\"24h\"\n",
    ")"
   ]
  },
  {
   "cell_type": "code",
   "execution_count": 52,
   "metadata": {},
   "outputs": [
    {
     "data": {
      "text/plain": [
       "Batch(id='batch_0i61yBdCFHz3m5bh6lbOn3n9', completion_window='24h', created_at=1714826503, endpoint='/v1/chat/completions', input_file_id='file-nlrXrFuvqDZ0ejzSdo1igj3y', object='batch', status='failed', cancelled_at=None, cancelling_at=None, completed_at=None, error_file_id=None, errors=Errors(data=[BatchError(code='token_limit_exceeded', line=None, message='Enqueued token limit reached for gpt-3.5-turbo in organization org-hXJO49ZQJ7sspZkcFntfotwX. Limit: 200,000 enqueued tokens. Please try again once some in_progress batches have been completed.', param=None)], object='list'), expired_at=None, expires_at=1714912903, failed_at=1714826503, finalizing_at=None, in_progress_at=None, metadata=None, output_file_id=None, request_counts=BatchRequestCounts(completed=0, failed=0, total=0))"
      ]
     },
     "execution_count": 52,
     "metadata": {},
     "output_type": "execute_result"
    }
   ],
   "source": [
    "batch_job = client.batches.retrieve(batch_job.id)\n",
    "batch_job"
   ]
  },
  {
   "cell_type": "code",
   "execution_count": null,
   "metadata": {},
   "outputs": [],
   "source": [
    "result_file_id = batch_job.output_file_id\n",
    "result = client.files.content(result_file_id).content"
   ]
  },
  {
   "cell_type": "code",
   "execution_count": null,
   "metadata": {},
   "outputs": [],
   "source": [
    "result_file_name = \"data/batch_job_results_movies.jsonl\"\n",
    "\n",
    "with open(result_file_name, 'wb') as file:\n",
    "    file.write(result)"
   ]
  },
  {
   "cell_type": "code",
   "execution_count": null,
   "metadata": {},
   "outputs": [],
   "source": [
    "# Loading data from saved file\n",
    "results = []\n",
    "with open(result_file_name, 'r') as file:\n",
    "    for line in file:\n",
    "        # Parsing the JSON string into a dict and appending to the list of results\n",
    "        json_object = json.loads(line.strip())\n",
    "        results.append(json_object)"
   ]
  },
  {
   "cell_type": "markdown",
   "metadata": {},
   "source": [
    "#### READING - Example 1: Categorizing Movies\n"
   ]
  },
  {
   "cell_type": "code",
   "execution_count": null,
   "metadata": {},
   "outputs": [],
   "source": [
    "# Reading only the first results\n",
    "for res in results[:5]:\n",
    "    task_id = res['custom_id']\n",
    "    # Getting index from task id\n",
    "    index = task_id.split('-')[-1]\n",
    "    result = res['response']['body']['choices'][0]['message']['content']\n",
    "    movie = data.iloc[int(index)]\n",
    "    description = movie['Overview']\n",
    "    title = movie['Series_Title']\n",
    "    print(f\"TITLE: {title}\\nOVERVIEW: {description}\\n\\nRESULT: {result}\")\n",
    "    print(\"\\n\\n----------------------------\\n\\n\")"
   ]
  },
  {
   "cell_type": "markdown",
   "metadata": {},
   "source": [
    "### Second Part: Image Captioning"
   ]
  },
  {
   "cell_type": "code",
   "execution_count": 55,
   "metadata": {},
   "outputs": [],
   "source": [
    "%reset -f # Clearing all variables"
   ]
  },
  {
   "cell_type": "code",
   "execution_count": 78,
   "metadata": {},
   "outputs": [],
   "source": [
    "import pandas as pd\n",
    "from openai import OpenAI\n",
    "from IPython.display import Image, display\n",
    "import json"
   ]
  },
  {
   "cell_type": "code",
   "execution_count": 72,
   "metadata": {},
   "outputs": [
    {
     "data": {
      "text/html": [
       "<div>\n",
       "<style scoped>\n",
       "    .dataframe tbody tr th:only-of-type {\n",
       "        vertical-align: middle;\n",
       "    }\n",
       "\n",
       "    .dataframe tbody tr th {\n",
       "        vertical-align: top;\n",
       "    }\n",
       "\n",
       "    .dataframe thead th {\n",
       "        text-align: right;\n",
       "    }\n",
       "</style>\n",
       "<table border=\"1\" class=\"dataframe\">\n",
       "  <thead>\n",
       "    <tr style=\"text-align: right;\">\n",
       "      <th></th>\n",
       "      <th>asin</th>\n",
       "      <th>url</th>\n",
       "      <th>title</th>\n",
       "      <th>brand</th>\n",
       "      <th>price</th>\n",
       "      <th>availability</th>\n",
       "      <th>categories</th>\n",
       "      <th>primary_image</th>\n",
       "      <th>images</th>\n",
       "      <th>upc</th>\n",
       "      <th>...</th>\n",
       "      <th>color</th>\n",
       "      <th>material</th>\n",
       "      <th>style</th>\n",
       "      <th>important_information</th>\n",
       "      <th>product_overview</th>\n",
       "      <th>about_item</th>\n",
       "      <th>description</th>\n",
       "      <th>specifications</th>\n",
       "      <th>uniq_id</th>\n",
       "      <th>scraped_at</th>\n",
       "    </tr>\n",
       "  </thead>\n",
       "  <tbody>\n",
       "    <tr>\n",
       "      <th>0</th>\n",
       "      <td>B0CJHKVG6P</td>\n",
       "      <td>https://www.amazon.com/dp/B0CJHKVG6P</td>\n",
       "      <td>GOYMFK 1pc Free Standing Shoe Rack, Multi-laye...</td>\n",
       "      <td>GOYMFK</td>\n",
       "      <td>$24.99</td>\n",
       "      <td>Only 13 left in stock - order soon.</td>\n",
       "      <td>['Home &amp; Kitchen', 'Storage &amp; Organization', '...</td>\n",
       "      <td>https://m.media-amazon.com/images/I/416WaLx10j...</td>\n",
       "      <td>['https://m.media-amazon.com/images/I/416WaLx1...</td>\n",
       "      <td>NaN</td>\n",
       "      <td>...</td>\n",
       "      <td>White</td>\n",
       "      <td>Metal</td>\n",
       "      <td>Modern</td>\n",
       "      <td>[]</td>\n",
       "      <td>[{'Brand': ' GOYMFK '}, {'Color': ' White '}, ...</td>\n",
       "      <td>['Multiple layers: Provides ample storage spac...</td>\n",
       "      <td>multiple shoes, coats, hats, and other items E...</td>\n",
       "      <td>['Brand: GOYMFK', 'Color: White', 'Material: M...</td>\n",
       "      <td>02593e81-5c09-5069-8516-b0b29f439ded</td>\n",
       "      <td>2024-02-02 15:15:08</td>\n",
       "    </tr>\n",
       "    <tr>\n",
       "      <th>1</th>\n",
       "      <td>B0B66QHB23</td>\n",
       "      <td>https://www.amazon.com/dp/B0B66QHB23</td>\n",
       "      <td>subrtex Leather ding Room, Dining Chairs Set o...</td>\n",
       "      <td>subrtex</td>\n",
       "      <td>NaN</td>\n",
       "      <td>NaN</td>\n",
       "      <td>['Home &amp; Kitchen', 'Furniture', 'Dining Room F...</td>\n",
       "      <td>https://m.media-amazon.com/images/I/31SejUEWY7...</td>\n",
       "      <td>['https://m.media-amazon.com/images/I/31SejUEW...</td>\n",
       "      <td>NaN</td>\n",
       "      <td>...</td>\n",
       "      <td>Black</td>\n",
       "      <td>Sponge</td>\n",
       "      <td>Black Rubber Wood</td>\n",
       "      <td>[]</td>\n",
       "      <td>NaN</td>\n",
       "      <td>['【Easy Assembly】: Set of 2 dining room chairs...</td>\n",
       "      <td>subrtex Dining chairs Set of 2</td>\n",
       "      <td>['Brand: subrtex', 'Color: Black', 'Product Di...</td>\n",
       "      <td>5938d217-b8c5-5d3e-b1cf-e28e340f292e</td>\n",
       "      <td>2024-02-02 15:15:09</td>\n",
       "    </tr>\n",
       "    <tr>\n",
       "      <th>2</th>\n",
       "      <td>B0BXRTWLYK</td>\n",
       "      <td>https://www.amazon.com/dp/B0BXRTWLYK</td>\n",
       "      <td>Plant Repotting Mat MUYETOL Waterproof Transpl...</td>\n",
       "      <td>MUYETOL</td>\n",
       "      <td>$5.98</td>\n",
       "      <td>In Stock</td>\n",
       "      <td>['Patio, Lawn &amp; Garden', 'Outdoor Décor', 'Doo...</td>\n",
       "      <td>https://m.media-amazon.com/images/I/41RgefVq70...</td>\n",
       "      <td>['https://m.media-amazon.com/images/I/41RgefVq...</td>\n",
       "      <td>NaN</td>\n",
       "      <td>...</td>\n",
       "      <td>Green</td>\n",
       "      <td>Polyethylene</td>\n",
       "      <td>Modern</td>\n",
       "      <td>[]</td>\n",
       "      <td>[{'Brand': ' MUYETOL '}, {'Size': ' 26.8*26.8 ...</td>\n",
       "      <td>['PLANT REPOTTING MAT SIZE: 26.8\" x 26.8\", squ...</td>\n",
       "      <td>NaN</td>\n",
       "      <td>['Brand: MUYETOL', 'Size: 26.8*26.8', 'Item We...</td>\n",
       "      <td>b2ede786-3f51-5a45-9a5b-bcf856958cd8</td>\n",
       "      <td>2024-02-02 15:15:09</td>\n",
       "    </tr>\n",
       "    <tr>\n",
       "      <th>3</th>\n",
       "      <td>B0C1MRB2M8</td>\n",
       "      <td>https://www.amazon.com/dp/B0C1MRB2M8</td>\n",
       "      <td>Pickleball Doormat, Welcome Doormat Absorbent ...</td>\n",
       "      <td>VEWETOL</td>\n",
       "      <td>$13.99</td>\n",
       "      <td>Only 10 left in stock - order soon.</td>\n",
       "      <td>['Patio, Lawn &amp; Garden', 'Outdoor Décor', 'Doo...</td>\n",
       "      <td>https://m.media-amazon.com/images/I/61vz1Igler...</td>\n",
       "      <td>['https://m.media-amazon.com/images/I/61vz1Igl...</td>\n",
       "      <td>NaN</td>\n",
       "      <td>...</td>\n",
       "      <td>A5589</td>\n",
       "      <td>Rubber</td>\n",
       "      <td>Modern</td>\n",
       "      <td>[]</td>\n",
       "      <td>[{'Brand': ' VEWETOL '}, {'Size': ' 16*24INCH ...</td>\n",
       "      <td>['Specifications: 16x24 Inch ', \" High-Quality...</td>\n",
       "      <td>The decorative doormat features a subtle textu...</td>\n",
       "      <td>['Brand: VEWETOL', 'Size: 16*24INCH', 'Materia...</td>\n",
       "      <td>8fd9377b-cfa6-5f10-835c-6b8eca2816b5</td>\n",
       "      <td>2024-02-02 15:15:10</td>\n",
       "    </tr>\n",
       "    <tr>\n",
       "      <th>4</th>\n",
       "      <td>B0CG1N9QRC</td>\n",
       "      <td>https://www.amazon.com/dp/B0CG1N9QRC</td>\n",
       "      <td>JOIN IRON Foldable TV Trays for Eating Set of ...</td>\n",
       "      <td>JOIN IRON Store</td>\n",
       "      <td>$89.99</td>\n",
       "      <td>Usually ships within 5 to 6 weeks</td>\n",
       "      <td>['Home &amp; Kitchen', 'Furniture', 'Game &amp; Recrea...</td>\n",
       "      <td>https://m.media-amazon.com/images/I/41p4d4VJnN...</td>\n",
       "      <td>['https://m.media-amazon.com/images/I/41p4d4VJ...</td>\n",
       "      <td>NaN</td>\n",
       "      <td>...</td>\n",
       "      <td>Grey Set of 4</td>\n",
       "      <td>Iron</td>\n",
       "      <td>X Classic Style</td>\n",
       "      <td>[]</td>\n",
       "      <td>NaN</td>\n",
       "      <td>['Includes 4 Folding Tv Tray Tables And one Co...</td>\n",
       "      <td>Set of Four Folding Trays With Matching Storag...</td>\n",
       "      <td>['Brand: JOIN IRON', 'Shape: Rectangular', 'In...</td>\n",
       "      <td>bdc9aa30-9439-50dc-8e89-213ea211d66a</td>\n",
       "      <td>2024-02-02 15:15:11</td>\n",
       "    </tr>\n",
       "  </tbody>\n",
       "</table>\n",
       "<p>5 rows × 25 columns</p>\n",
       "</div>"
      ],
      "text/plain": [
       "         asin                                   url  \\\n",
       "0  B0CJHKVG6P  https://www.amazon.com/dp/B0CJHKVG6P   \n",
       "1  B0B66QHB23  https://www.amazon.com/dp/B0B66QHB23   \n",
       "2  B0BXRTWLYK  https://www.amazon.com/dp/B0BXRTWLYK   \n",
       "3  B0C1MRB2M8  https://www.amazon.com/dp/B0C1MRB2M8   \n",
       "4  B0CG1N9QRC  https://www.amazon.com/dp/B0CG1N9QRC   \n",
       "\n",
       "                                               title            brand   price  \\\n",
       "0  GOYMFK 1pc Free Standing Shoe Rack, Multi-laye...           GOYMFK  $24.99   \n",
       "1  subrtex Leather ding Room, Dining Chairs Set o...          subrtex     NaN   \n",
       "2  Plant Repotting Mat MUYETOL Waterproof Transpl...          MUYETOL   $5.98   \n",
       "3  Pickleball Doormat, Welcome Doormat Absorbent ...          VEWETOL  $13.99   \n",
       "4  JOIN IRON Foldable TV Trays for Eating Set of ...  JOIN IRON Store  $89.99   \n",
       "\n",
       "                          availability  \\\n",
       "0  Only 13 left in stock - order soon.   \n",
       "1                                  NaN   \n",
       "2                             In Stock   \n",
       "3  Only 10 left in stock - order soon.   \n",
       "4    Usually ships within 5 to 6 weeks   \n",
       "\n",
       "                                          categories  \\\n",
       "0  ['Home & Kitchen', 'Storage & Organization', '...   \n",
       "1  ['Home & Kitchen', 'Furniture', 'Dining Room F...   \n",
       "2  ['Patio, Lawn & Garden', 'Outdoor Décor', 'Doo...   \n",
       "3  ['Patio, Lawn & Garden', 'Outdoor Décor', 'Doo...   \n",
       "4  ['Home & Kitchen', 'Furniture', 'Game & Recrea...   \n",
       "\n",
       "                                       primary_image  \\\n",
       "0  https://m.media-amazon.com/images/I/416WaLx10j...   \n",
       "1  https://m.media-amazon.com/images/I/31SejUEWY7...   \n",
       "2  https://m.media-amazon.com/images/I/41RgefVq70...   \n",
       "3  https://m.media-amazon.com/images/I/61vz1Igler...   \n",
       "4  https://m.media-amazon.com/images/I/41p4d4VJnN...   \n",
       "\n",
       "                                              images  upc  ...          color  \\\n",
       "0  ['https://m.media-amazon.com/images/I/416WaLx1...  NaN  ...          White   \n",
       "1  ['https://m.media-amazon.com/images/I/31SejUEW...  NaN  ...          Black   \n",
       "2  ['https://m.media-amazon.com/images/I/41RgefVq...  NaN  ...          Green   \n",
       "3  ['https://m.media-amazon.com/images/I/61vz1Igl...  NaN  ...          A5589   \n",
       "4  ['https://m.media-amazon.com/images/I/41p4d4VJ...  NaN  ...  Grey Set of 4   \n",
       "\n",
       "       material              style important_information  \\\n",
       "0         Metal             Modern                    []   \n",
       "1        Sponge  Black Rubber Wood                    []   \n",
       "2  Polyethylene             Modern                    []   \n",
       "3        Rubber             Modern                    []   \n",
       "4          Iron    X Classic Style                    []   \n",
       "\n",
       "                                    product_overview  \\\n",
       "0  [{'Brand': ' GOYMFK '}, {'Color': ' White '}, ...   \n",
       "1                                                NaN   \n",
       "2  [{'Brand': ' MUYETOL '}, {'Size': ' 26.8*26.8 ...   \n",
       "3  [{'Brand': ' VEWETOL '}, {'Size': ' 16*24INCH ...   \n",
       "4                                                NaN   \n",
       "\n",
       "                                          about_item  \\\n",
       "0  ['Multiple layers: Provides ample storage spac...   \n",
       "1  ['【Easy Assembly】: Set of 2 dining room chairs...   \n",
       "2  ['PLANT REPOTTING MAT SIZE: 26.8\" x 26.8\", squ...   \n",
       "3  ['Specifications: 16x24 Inch ', \" High-Quality...   \n",
       "4  ['Includes 4 Folding Tv Tray Tables And one Co...   \n",
       "\n",
       "                                         description  \\\n",
       "0  multiple shoes, coats, hats, and other items E...   \n",
       "1                     subrtex Dining chairs Set of 2   \n",
       "2                                                NaN   \n",
       "3  The decorative doormat features a subtle textu...   \n",
       "4  Set of Four Folding Trays With Matching Storag...   \n",
       "\n",
       "                                      specifications  \\\n",
       "0  ['Brand: GOYMFK', 'Color: White', 'Material: M...   \n",
       "1  ['Brand: subrtex', 'Color: Black', 'Product Di...   \n",
       "2  ['Brand: MUYETOL', 'Size: 26.8*26.8', 'Item We...   \n",
       "3  ['Brand: VEWETOL', 'Size: 16*24INCH', 'Materia...   \n",
       "4  ['Brand: JOIN IRON', 'Shape: Rectangular', 'In...   \n",
       "\n",
       "                                uniq_id           scraped_at  \n",
       "0  02593e81-5c09-5069-8516-b0b29f439ded  2024-02-02 15:15:08  \n",
       "1  5938d217-b8c5-5d3e-b1cf-e28e340f292e  2024-02-02 15:15:09  \n",
       "2  b2ede786-3f51-5a45-9a5b-bcf856958cd8  2024-02-02 15:15:09  \n",
       "3  8fd9377b-cfa6-5f10-835c-6b8eca2816b5  2024-02-02 15:15:10  \n",
       "4  bdc9aa30-9439-50dc-8e89-213ea211d66a  2024-02-02 15:15:11  \n",
       "\n",
       "[5 rows x 25 columns]"
      ]
     },
     "execution_count": 72,
     "metadata": {},
     "output_type": "execute_result"
    }
   ],
   "source": [
    "dataset_path = \"data/amazon_furniture_dataset.csv\"\n",
    "df = pd.read_csv(dataset_path)\n",
    "df.head()"
   ]
  },
  {
   "cell_type": "code",
   "execution_count": 73,
   "metadata": {},
   "outputs": [],
   "source": [
    "client = OpenAI()"
   ]
  },
  {
   "cell_type": "code",
   "execution_count": 74,
   "metadata": {},
   "outputs": [],
   "source": [
    "caption_system_prompt = '''\n",
    "Your goal is to generate short, descriptive captions for images of items.\n",
    "You will be provided with an item image and the name of that item and you will output a caption that captures the most important information about the item.\n",
    "If there are multiple items depicted, refer to the name provided to understand which item you should describe.\n",
    "Your generated caption should be short (1 sentence), and include only the most important information about the item.\n",
    "The most important information could be: the type of item, the style (if mentioned), the material or color if especially relevant and/or any distinctive features.\n",
    "Keep it short and to the point.\n",
    "'''\n",
    "\n",
    "def get_caption(img_url, title):\n",
    "    response = client.chat.completions.create(\n",
    "    model=\"gpt-4-turbo\",\n",
    "    temperature=0.2,\n",
    "    max_tokens=300,\n",
    "    messages=[\n",
    "        {\n",
    "            \"role\": \"system\",\n",
    "            \"content\": caption_system_prompt\n",
    "        },\n",
    "        {\n",
    "            \"role\": \"user\",\n",
    "            \"content\": [\n",
    "                {\n",
    "                    \"type\": \"text\",\n",
    "                    \"text\": title\n",
    "                },\n",
    "                # The content type should be \"image_url\" to use gpt-4-turbo's vision capabilities\n",
    "                {\n",
    "                    \"type\": \"image_url\",\n",
    "                    \"image_url\": {\n",
    "                        \"url\": img_url\n",
    "                    }\n",
    "                },\n",
    "            ],\n",
    "        }\n",
    "    ]\n",
    "    )\n",
    "\n",
    "    return response.choices[0].message.content"
   ]
  },
  {
   "cell_type": "code",
   "execution_count": 75,
   "metadata": {},
   "outputs": [
    {
     "data": {
      "text/html": [
       "<img src=\"https://m.media-amazon.com/images/I/416WaLx10jL._SS522_.jpg\"/>"
      ],
      "text/plain": [
       "<IPython.core.display.Image object>"
      ]
     },
     "metadata": {},
     "output_type": "display_data"
    },
    {
     "name": "stdout",
     "output_type": "stream",
     "text": [
      "CAPTION: White multi-layer metal shoe rack featuring eight double hooks and multiple shelves, ideal for organizing shoes and accessories in a living room, bathroom, or hallway.\n",
      "\n",
      "\n"
     ]
    },
    {
     "data": {
      "text/html": [
       "<img src=\"https://m.media-amazon.com/images/I/31SejUEWY7L._SS522_.jpg\"/>"
      ],
      "text/plain": [
       "<IPython.core.display.Image object>"
      ]
     },
     "metadata": {},
     "output_type": "display_data"
    },
    {
     "name": "stdout",
     "output_type": "stream",
     "text": [
      "CAPTION: A set of two elegant black leather dining chairs with a sleek design and vertical stitching detail on the backrest.\n",
      "\n",
      "\n"
     ]
    }
   ],
   "source": [
    "# Testing on a few images\n",
    "for _, row in df[:2].iterrows():\n",
    "    img_url = row['primary_image']\n",
    "    caption = get_caption(img_url, row['title'])\n",
    "    img = Image(url=img_url)\n",
    "    display(img)\n",
    "    print(f\"CAPTION: {caption}\\n\\n\")"
   ]
  },
  {
   "cell_type": "code",
   "execution_count": 76,
   "metadata": {},
   "outputs": [],
   "source": [
    "# Creating an array of json tasks\n",
    "\n",
    "tasks = []\n",
    "\n",
    "for index, row in df.iterrows():\n",
    "    \n",
    "    title = row['title']\n",
    "    img_url = row['primary_image']\n",
    "    \n",
    "    task = {\n",
    "        \"custom_id\": f\"task-{index}\",\n",
    "        \"method\": \"POST\",\n",
    "        \"url\": \"/v1/chat/completions\",\n",
    "        \"body\": {\n",
    "            # This is what you would have in your Chat Completions API call\n",
    "            \"model\": \"gpt-4-turbo\",\n",
    "            \"temperature\": 0.2,\n",
    "            \"max_tokens\": 300,\n",
    "            \"messages\": [\n",
    "                {\n",
    "                    \"role\": \"system\",\n",
    "                    \"content\": caption_system_prompt\n",
    "                },\n",
    "                {\n",
    "                    \"role\": \"user\",\n",
    "                    \"content\": [\n",
    "                        {\n",
    "                            \"type\": \"text\",\n",
    "                            \"text\": title\n",
    "                        },\n",
    "                        {\n",
    "                            \"type\": \"image_url\",\n",
    "                            \"image_url\": {\n",
    "                                \"url\": img_url\n",
    "                            }\n",
    "                        },\n",
    "                    ],\n",
    "                }\n",
    "            ]            \n",
    "        }\n",
    "    }\n",
    "    \n",
    "    tasks.append(task)"
   ]
  },
  {
   "cell_type": "code",
   "execution_count": 79,
   "metadata": {},
   "outputs": [],
   "source": [
    "# Creating the file\n",
    "\n",
    "file_name = \"data/batch_tasks_furniture.jsonl\"\n",
    "\n",
    "with open(file_name, 'w') as file:\n",
    "    for obj in tasks:\n",
    "        file.write(json.dumps(obj) + '\\n')"
   ]
  },
  {
   "cell_type": "code",
   "execution_count": 80,
   "metadata": {},
   "outputs": [],
   "source": [
    "# Uploading the file \n",
    "\n",
    "batch_file = client.files.create(\n",
    "  file=open(file_name, \"rb\"),\n",
    "  purpose=\"batch\"\n",
    ")"
   ]
  },
  {
   "cell_type": "code",
   "execution_count": 81,
   "metadata": {},
   "outputs": [],
   "source": [
    "# Creating the job\n",
    "\n",
    "batch_job = client.batches.create(\n",
    "  input_file_id=batch_file.id,\n",
    "  endpoint=\"/v1/chat/completions\",\n",
    "  completion_window=\"24h\"\n",
    ")"
   ]
  },
  {
   "cell_type": "code",
   "execution_count": 82,
   "metadata": {},
   "outputs": [
    {
     "name": "stdout",
     "output_type": "stream",
     "text": [
      "Batch(id='batch_8bcs4q6U01aLiro6rNZfEl74', completion_window='24h', created_at=1714827061, endpoint='/v1/chat/completions', input_file_id='file-whWgxiG2JrJmMjCEuBfCOsMI', object='batch', status='failed', cancelled_at=None, cancelling_at=None, completed_at=None, error_file_id=None, errors=Errors(data=[BatchError(code='token_limit_exceeded', line=None, message='Enqueued token limit reached for gpt-4-turbo in organization org-hXJO49ZQJ7sspZkcFntfotwX. Limit: 90,000 enqueued tokens. Please try again once some in_progress batches have been completed.', param=None)], object='list'), expired_at=None, expires_at=1714913461, failed_at=1714827061, finalizing_at=None, in_progress_at=None, metadata=None, output_file_id=None, request_counts=BatchRequestCounts(completed=0, failed=0, total=0))\n"
     ]
    }
   ],
   "source": [
    "batch_job = client.batches.retrieve(batch_job.id)\n",
    "print(batch_job)"
   ]
  },
  {
   "cell_type": "code",
   "execution_count": null,
   "metadata": {},
   "outputs": [],
   "source": [
    "result_file_id = batch_job.output_file_id\n",
    "result = client.files.content(result_file_id).content"
   ]
  },
  {
   "cell_type": "code",
   "execution_count": 84,
   "metadata": {},
   "outputs": [
    {
     "ename": "NameError",
     "evalue": "name 'result' is not defined",
     "output_type": "error",
     "traceback": [
      "\u001b[0;31m---------------------------------------------------------------------------\u001b[0m",
      "\u001b[0;31mNameError\u001b[0m                                 Traceback (most recent call last)",
      "Cell \u001b[0;32mIn[84], line 4\u001b[0m\n\u001b[1;32m      1\u001b[0m result_file_name \u001b[38;5;241m=\u001b[39m \u001b[38;5;124m\"\u001b[39m\u001b[38;5;124mdata/batch_job_results_furniture.jsonl\u001b[39m\u001b[38;5;124m\"\u001b[39m\n\u001b[1;32m      3\u001b[0m \u001b[38;5;28;01mwith\u001b[39;00m \u001b[38;5;28mopen\u001b[39m(result_file_name, \u001b[38;5;124m'\u001b[39m\u001b[38;5;124mwb\u001b[39m\u001b[38;5;124m'\u001b[39m) \u001b[38;5;28;01mas\u001b[39;00m file:\n\u001b[0;32m----> 4\u001b[0m     file\u001b[38;5;241m.\u001b[39mwrite(\u001b[43mresult\u001b[49m)\n",
      "\u001b[0;31mNameError\u001b[0m: name 'result' is not defined"
     ]
    }
   ],
   "source": [
    "result_file_name = \"data/batch_job_results_furniture.jsonl\"\n",
    "\n",
    "with open(result_file_name, 'wb') as file:\n",
    "    file.write(result)"
   ]
  },
  {
   "cell_type": "code",
   "execution_count": 85,
   "metadata": {},
   "outputs": [],
   "source": [
    "# Loading data from saved file\n",
    "\n",
    "results = []\n",
    "with open(result_file_name, 'r') as file:\n",
    "    for line in file:\n",
    "        # Parsing the JSON string into a dict and appending to the list of results\n",
    "        json_object = json.loads(line.strip())\n",
    "        results.append(json_object)"
   ]
  },
  {
   "cell_type": "code",
   "execution_count": 86,
   "metadata": {},
   "outputs": [],
   "source": [
    "# Reading only the first results\n",
    "for res in results[:5]:\n",
    "    task_id = res['custom_id']\n",
    "    # Getting index from task id\n",
    "    index = task_id.split('-')[-1]\n",
    "    result = res['response']['body']['choices'][0]['message']['content']\n",
    "    item = df.iloc[int(index)]\n",
    "    img_url = item['primary_image']\n",
    "    img = Image(url=img_url)\n",
    "    display(img)\n",
    "    print(f\"CAPTION: {result}\\n\\n\")"
   ]
  },
  {
   "cell_type": "code",
   "execution_count": null,
   "metadata": {},
   "outputs": [],
   "source": []
  }
 ],
 "metadata": {
  "kernelspec": {
   "display_name": "env",
   "language": "python",
   "name": "python3"
  },
  "language_info": {
   "codemirror_mode": {
    "name": "ipython",
    "version": 3
   },
   "file_extension": ".py",
   "mimetype": "text/x-python",
   "name": "python",
   "nbconvert_exporter": "python",
   "pygments_lexer": "ipython3",
   "version": "3.10.13"
  }
 },
 "nbformat": 4,
 "nbformat_minor": 2
}
